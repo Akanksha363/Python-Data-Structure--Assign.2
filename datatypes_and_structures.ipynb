{
  "nbformat": 4,
  "nbformat_minor": 0,
  "metadata": {
    "colab": {
      "provenance": []
    },
    "kernelspec": {
      "name": "python3",
      "display_name": "Python 3"
    },
    "language_info": {
      "name": "python"
    }
  },
  "cells": [
    {
      "cell_type": "markdown",
      "source": [
        "                                         \n",
        "                                       **Theoretical Questions**"
      ],
      "metadata": {
        "id": "mpkirYsCeter"
      }
    },
    {
      "cell_type": "markdown",
      "source": [
        "1. What are data structures, and why are they important?\n",
        "  - Data structures are specialized formats for organizing, storing, and\n",
        "    managing data efficiently. They are crucial for enabling optimized algorithm development and efficient data handling.\n",
        "\n",
        "2. Explain the difference between mutable and immutable data types with examples.\n",
        " -  Mutable data types can be modified after creation (e.g., lists).\n",
        " -  Immutable data types cannot be modified (e.g., tuples).\n",
        "    Example: list=[1, 2] (mutable), tuple=(1, 2) (immutable).\n",
        "\n",
        "3. What are the main differences between lists and tuples in Python?\n",
        "  - List:\n",
        "     (a) Lists are mutable, dynamic in size, and slower.\n",
        "     (b) Suitable for collections that require frequent updates.\n",
        "  - Tuples:\n",
        "     (a) Tuples are immutable, fixed in size, and faster for operations.\n",
        "     (b) Ideal for fixed data that shouldn't change.\n",
        "\n",
        "4. Describe how dictionaries store data.\n",
        "  - Dictionaries store data as key-value pairs using hash tables for fast\n",
        "    lookups and access.\n",
        "\n",
        "5. Why might you use a set instead of a list in Python?\n",
        " - Sets discard duplicate elements automatically and provide faster operations\n",
        "   for membership testing and set operations.\n",
        "\n",
        "6. What is a string in Python, and how is it different from a list?\n",
        " - Strings are immutable sequences of characters. Lists are mutable collections\n",
        "   that can hold diverse data type.\n",
        "\n",
        "7. How do tuples ensure data integrity in Python?\n",
        " - Tuples are immutable, meaning their elements cannot be changed after\n",
        "   creation, ensuring data consistency.\n",
        "\n",
        "8. What is a hash table, and how does it relate to dictionaries in Python?\n",
        " - Hash tables are data structures that map keys to values using hash\n",
        "   functions. Dictionaries in Python are implemented using hash tables.\n",
        "\n",
        "9. Can lists contain different data types in Python?\n",
        "  - Yes, lists can contain elements of different data types, including numbers, strings, and objects.\n",
        "\n",
        "10. Explain why strings are immutable in Python.\n",
        "  - Strings are immutable to ensure efficiency and security, especially when\n",
        "    used as keys in dictionaries.\n",
        "\n",
        "11. What advantages do dictionaries offer over lists for certain tasks?\n",
        " -  Dictionaries provide fast lookups and access using keys, making them more\n",
        "    suitable for tasks requiring key-value mapping.\n",
        "\n",
        "12. Describe a scenario where using a tuple would be preferable over a list?\n",
        "  - Tuples are ideal when the data should not change, such as coordinates or\n",
        "    configuration settings.\n",
        "\n",
        "13. How do sets handle duplicate values in Python?\n",
        "  - Sets automatically remove duplicate values, ensuring all elements are\n",
        "    unique.\n",
        "\n",
        "14. How does the “in” keyword work differently for lists and dictionaries?\n",
        " -  For lists, 'in' checks for element existence. For dictionaries, it checks  \n",
        "    if a key exists.\n",
        "\n",
        "15. Can you modify the elements of a tuple? Explain why or why not?\n",
        "  - No,tuple elements cannot be modified because tuples are immutable by design.\n",
        "\n",
        "16. What is a nested dictionary, and give an example of its use case?\n",
        "  -  A nested dictionary is a dictionary within another dictionary. Example:\n",
        "     {'user': {'name':'Alice', 'age': 25}}.\n",
        "\n",
        "17. Describe the time complexity of accessing elements in a dictionary?\n",
        "  -  Accessing elements in a dictionary has an average time complexity of O(1)\n",
        "     due to hash table implementation.\n",
        "\n",
        "18. In what situations are lists preferred over dictionaries?\n",
        "  - Lists are preferred when order matters or when storing a simple sequence of elements without key-value mapping.\n",
        "\n",
        "19. Why are dictionaries considered unordered, and how does that affect data retrieval?\n",
        " - Dictionaries are unordered because they rely on hash tables. Retrieval is\n",
        "  based on keys,not order.\n",
        "\n",
        "20. Explain the difference between a list and a dictionary in terms of data retrieval.\n",
        " - Lists use positional indices for data retrieval, while dictionaries use keys\n",
        "   for fast lookups."
      ],
      "metadata": {
        "id": "GCRzWyABe6Pp"
      }
    },
    {
      "cell_type": "markdown",
      "source": [
        "                                          **Practical Questions**"
      ],
      "metadata": {
        "id": "a-y1b6A8eGo8"
      }
    },
    {
      "cell_type": "markdown",
      "source": [
        "1. Write a code to create a string with your name and print it.\n"
      ],
      "metadata": {
        "id": "Kp45E9qFeVs3"
      }
    },
    {
      "cell_type": "code",
      "source": [
        "name = \"Aishwarya\"\n",
        "print(name)"
      ],
      "metadata": {
        "colab": {
          "base_uri": "https://localhost:8080/"
        },
        "id": "3ZlQW2_qeTOo",
        "outputId": "a7a672a3-7a75-4e8f-b2d6-4037186f3da5"
      },
      "execution_count": null,
      "outputs": [
        {
          "output_type": "stream",
          "name": "stdout",
          "text": [
            "Aishwarya\n"
          ]
        }
      ]
    },
    {
      "cell_type": "markdown",
      "source": [
        "2. Write a code to find the length of the string \"Hello World\"."
      ],
      "metadata": {
        "id": "QpVWLyDYffnR"
      }
    },
    {
      "cell_type": "code",
      "source": [
        "string = \"Hello World\"\n",
        "print(len(string))"
      ],
      "metadata": {
        "colab": {
          "base_uri": "https://localhost:8080/"
        },
        "id": "QhMxGI9HfrFo",
        "outputId": "ab270864-ba1b-41b1-c7d9-7bc42a090033"
      },
      "execution_count": null,
      "outputs": [
        {
          "output_type": "stream",
          "name": "stdout",
          "text": [
            "11\n"
          ]
        }
      ]
    },
    {
      "cell_type": "markdown",
      "source": [
        "3. . Write a code to slice the first 3 characters from the string 'Python Programming'.\n"
      ],
      "metadata": {
        "id": "dFdIbSvcf-mf"
      }
    },
    {
      "cell_type": "code",
      "source": [
        "string = \"Python Programming\"\n",
        "print(string[:3])\n"
      ],
      "metadata": {
        "colab": {
          "base_uri": "https://localhost:8080/"
        },
        "id": "iDdZbd4pgOO6",
        "outputId": "c1e187d7-df47-48f9-c39d-871f30486c6b"
      },
      "execution_count": null,
      "outputs": [
        {
          "output_type": "stream",
          "name": "stdout",
          "text": [
            "Pyt\n"
          ]
        }
      ]
    },
    {
      "cell_type": "markdown",
      "source": [
        "4. Write a code to convert the string 'hello' to uppercase.\n"
      ],
      "metadata": {
        "id": "dfbY1XZhgbUg"
      }
    },
    {
      "cell_type": "code",
      "source": [
        "string = \"hello\"\n",
        "print(string.upper())"
      ],
      "metadata": {
        "colab": {
          "base_uri": "https://localhost:8080/"
        },
        "id": "FGTkjEH-ggsL",
        "outputId": "0e6b3722-1a2d-4d65-a4fb-aeccddcb44a2"
      },
      "execution_count": null,
      "outputs": [
        {
          "output_type": "stream",
          "name": "stdout",
          "text": [
            "HELLO\n"
          ]
        }
      ]
    },
    {
      "cell_type": "markdown",
      "source": [
        "5. Write a code to replace the word 'apple' with 'orange' in the string 'I like apple'.\n"
      ],
      "metadata": {
        "id": "7vZiE0uQgwHp"
      }
    },
    {
      "cell_type": "code",
      "source": [
        "string = \"I like apple\"\n",
        "print(string.replace(\"apple\", \"orange\"))\n"
      ],
      "metadata": {
        "colab": {
          "base_uri": "https://localhost:8080/"
        },
        "id": "HyLE0lX9hBed",
        "outputId": "2f397fdf-334d-4c2c-ae8b-c0a3161b88c9"
      },
      "execution_count": null,
      "outputs": [
        {
          "output_type": "stream",
          "name": "stdout",
          "text": [
            "I like orange\n"
          ]
        }
      ]
    },
    {
      "cell_type": "markdown",
      "source": [
        "6. . Write a code to create a list with numbers 1 to 5 and print it.\n"
      ],
      "metadata": {
        "id": "6C-j_YH-hVZE"
      }
    },
    {
      "cell_type": "code",
      "source": [
        "list = [1, 2, 3, 4, 5]\n",
        "print(list)"
      ],
      "metadata": {
        "colab": {
          "base_uri": "https://localhost:8080/"
        },
        "id": "K_jYFwWNhfrg",
        "outputId": "fded0fa3-8a13-4264-98d4-62cdf05ccb60"
      },
      "execution_count": null,
      "outputs": [
        {
          "output_type": "stream",
          "name": "stdout",
          "text": [
            "[1, 2, 3, 4, 5]\n"
          ]
        }
      ]
    },
    {
      "cell_type": "markdown",
      "source": [
        "7. Write a code to append the number 10 to the list [1, 2, 3, 4].\n",
        "\n"
      ],
      "metadata": {
        "id": "GK7z3wlWh8DA"
      }
    },
    {
      "cell_type": "code",
      "source": [
        "numbers = [1, 2, 3, 4]\n",
        "numbers.append(10)\n",
        "print(numbers)"
      ],
      "metadata": {
        "colab": {
          "base_uri": "https://localhost:8080/"
        },
        "id": "RbDr1BDkiENy",
        "outputId": "6b4f15b2-24d5-4a6e-cd89-6ccf2f3a96d4"
      },
      "execution_count": 30,
      "outputs": [
        {
          "output_type": "stream",
          "name": "stdout",
          "text": [
            "[1, 2, 3, 4, 10]\n"
          ]
        }
      ]
    },
    {
      "cell_type": "markdown",
      "source": [
        "8. Write a code to remove the number 3 from the list [1, 2, 3, 4, 5]."
      ],
      "metadata": {
        "id": "fApi5gJuiTAF"
      }
    },
    {
      "cell_type": "code",
      "source": [
        "numbers = [1, 2, 3, 4, 5]\n",
        "numbers.remove(3)\n",
        "print(numbers)"
      ],
      "metadata": {
        "colab": {
          "base_uri": "https://localhost:8080/"
        },
        "id": "gY4HD5A6icZz",
        "outputId": "22dcc257-63cb-4b79-f983-69658a9c8f79"
      },
      "execution_count": null,
      "outputs": [
        {
          "output_type": "stream",
          "name": "stdout",
          "text": [
            "[1, 2, 4, 5]\n"
          ]
        }
      ]
    },
    {
      "cell_type": "markdown",
      "source": [
        "9. Write a code to access the second element in the list ['a', 'b', 'c', 'd'].\n"
      ],
      "metadata": {
        "id": "cloecc77izF2"
      }
    },
    {
      "cell_type": "code",
      "source": [
        "letters = [\"a\", \"b\", \"c\", \"d\"]\n",
        "print(letters[1])"
      ],
      "metadata": {
        "colab": {
          "base_uri": "https://localhost:8080/"
        },
        "id": "CnHq5Bori6pH",
        "outputId": "807d9546-f545-4b8a-fb4d-ddc03643567a"
      },
      "execution_count": null,
      "outputs": [
        {
          "output_type": "stream",
          "name": "stdout",
          "text": [
            "b\n"
          ]
        }
      ]
    },
    {
      "cell_type": "markdown",
      "source": [
        "10. Write a code to reverse the list [10, 20, 30, 40, 50].\n"
      ],
      "metadata": {
        "id": "l3pHPoRcjEuO"
      }
    },
    {
      "cell_type": "code",
      "source": [
        "numbers = [10, 20, 30, 40, 50]\n",
        "numbers.reverse()\n",
        "print(numbers)\n"
      ],
      "metadata": {
        "colab": {
          "base_uri": "https://localhost:8080/"
        },
        "id": "fZHlk7xrjJCD",
        "outputId": "09d9cfca-c8c0-42fb-a5a0-baa790ad3c92"
      },
      "execution_count": null,
      "outputs": [
        {
          "output_type": "stream",
          "name": "stdout",
          "text": [
            "[50, 40, 30, 20, 10]\n"
          ]
        }
      ]
    },
    {
      "cell_type": "markdown",
      "source": [
        "11. Write a code to create a tuple with the elements 100, 200, 300 and print it."
      ],
      "metadata": {
        "id": "OqtVOIepjU1S"
      }
    },
    {
      "cell_type": "code",
      "source": [
        "tuple1 = (100, 200, 300)\n",
        "print(tuple1)"
      ],
      "metadata": {
        "colab": {
          "base_uri": "https://localhost:8080/"
        },
        "id": "2Ol-RAC9j1qN",
        "outputId": "436ecb5e-a3fe-4e79-a620-f0cbd7146836"
      },
      "execution_count": 1,
      "outputs": [
        {
          "output_type": "stream",
          "name": "stdout",
          "text": [
            "(100, 200, 300)\n"
          ]
        }
      ]
    },
    {
      "cell_type": "markdown",
      "source": [
        "12. Write a code to access second-to-last element of the tuple ('red', 'green','blue' 'yellow').\n"
      ],
      "metadata": {
        "id": "YrrTB9IKkBCP"
      }
    },
    {
      "source": [
        "my_tuple = ('red', 'green', 'blue', 'yellow')\n",
        "second_to_last_element = my_tuple[-2]\n",
        "print(second_to_last_element)"
      ],
      "cell_type": "code",
      "metadata": {
        "colab": {
          "base_uri": "https://localhost:8080/"
        },
        "id": "6lybXxLASTUz",
        "outputId": "e0144bf4-7ae8-4bb6-f63c-f7073841c84e"
      },
      "execution_count": 3,
      "outputs": [
        {
          "output_type": "stream",
          "name": "stdout",
          "text": [
            "blue\n"
          ]
        }
      ]
    },
    {
      "cell_type": "markdown",
      "source": [
        "13. Write a code to find the minimum number in the tuple (10, 20, 5, 15)."
      ],
      "metadata": {
        "id": "OGAEdnI7kVe7"
      }
    },
    {
      "source": [
        "my_tuple = (10, 20, 5, 15)\n",
        "min_number = min(my_tuple)\n",
        "print(min_number)"
      ],
      "cell_type": "code",
      "metadata": {
        "colab": {
          "base_uri": "https://localhost:8080/"
        },
        "id": "k6Koj06pS2xK",
        "outputId": "165552fa-57d9-4e2f-9f0e-d3f861e232d9"
      },
      "execution_count": 4,
      "outputs": [
        {
          "output_type": "stream",
          "name": "stdout",
          "text": [
            "5\n"
          ]
        }
      ]
    },
    {
      "cell_type": "markdown",
      "source": [
        "14. Write a code to find the index of the element 'cat' in the tuple ('dog', 'cat', 'rabbit').\n",
        "\n"
      ],
      "metadata": {
        "id": "JDfFcfO5kxFD"
      }
    },
    {
      "cell_type": "code",
      "source": [
        "animals = (\"dog\", \"cat\", \"rabbit\")\n",
        "print(animals.index(\"cat\"))\n"
      ],
      "metadata": {
        "colab": {
          "base_uri": "https://localhost:8080/"
        },
        "id": "R7MhdXHek1LB",
        "outputId": "10019a97-3e38-45aa-b7c2-07ad21428dac"
      },
      "execution_count": 5,
      "outputs": [
        {
          "output_type": "stream",
          "name": "stdout",
          "text": [
            "1\n"
          ]
        }
      ]
    },
    {
      "cell_type": "markdown",
      "source": [
        "15. Write a code to create a tuple containing three different fruits and check if \"kiwi\"is in it."
      ],
      "metadata": {
        "id": "_L_rO-y-lE5X"
      }
    },
    {
      "source": [
        "fruits = (\"apple\", \"orange\", \"banana\")\n",
        "print(\"kiwi\" in fruits)"
      ],
      "cell_type": "code",
      "metadata": {
        "colab": {
          "base_uri": "https://localhost:8080/"
        },
        "id": "lRA7JtKZTtBx",
        "outputId": "80527400-2d9f-407e-a06b-d1226d8e4788"
      },
      "execution_count": 6,
      "outputs": [
        {
          "output_type": "stream",
          "name": "stdout",
          "text": [
            "False\n"
          ]
        }
      ]
    },
    {
      "cell_type": "markdown",
      "source": [
        "16. Write a code to create a set with the elements 'a', 'b', 'c' and print it."
      ],
      "metadata": {
        "id": "fx9maMCIlZ6H"
      }
    },
    {
      "cell_type": "code",
      "source": [
        "set1 = {'a','b','c'}\n",
        "print(set1)\n"
      ],
      "metadata": {
        "colab": {
          "base_uri": "https://localhost:8080/"
        },
        "id": "357CdOCElg0U",
        "outputId": "2394595d-6d5b-4356-9aba-e560b4ddf19a"
      },
      "execution_count": 8,
      "outputs": [
        {
          "output_type": "stream",
          "name": "stdout",
          "text": [
            "{'b', 'a', 'c'}\n"
          ]
        }
      ]
    },
    {
      "cell_type": "markdown",
      "source": [
        "17. Write a code to clear all element from the set {1, 2, 3, 4, 5}."
      ],
      "metadata": {
        "id": "XDh0fQg0lmMI"
      }
    },
    {
      "source": [
        "my_set = {1, 2, 3, 4, 5}\n",
        "my_set.clear()\n",
        "print(my_set)"
      ],
      "cell_type": "code",
      "metadata": {
        "colab": {
          "base_uri": "https://localhost:8080/"
        },
        "id": "yZJwkDBCUpr8",
        "outputId": "c7c899e8-fb1a-4162-c55b-e50a1829c4ae"
      },
      "execution_count": 11,
      "outputs": [
        {
          "output_type": "stream",
          "name": "stdout",
          "text": [
            "set()\n"
          ]
        }
      ]
    },
    {
      "cell_type": "markdown",
      "source": [
        "18. Write a code to remove the element 4 from the set {1, 2, 3, 4}."
      ],
      "metadata": {
        "id": "sT158eEZmM4n"
      }
    },
    {
      "source": [
        "my_set = {1, 2, 3, 4}\n",
        "my_set.remove(4)\n",
        "print(my_set)"
      ],
      "cell_type": "code",
      "metadata": {
        "colab": {
          "base_uri": "https://localhost:8080/"
        },
        "id": "FQ5I3EhiVFes",
        "outputId": "dcc44757-11ef-4115-ef19-bef7ee67c92e"
      },
      "execution_count": 13,
      "outputs": [
        {
          "output_type": "stream",
          "name": "stdout",
          "text": [
            "{1, 2, 3}\n"
          ]
        }
      ]
    },
    {
      "cell_type": "markdown",
      "source": [
        "19. Write a code to find the union of two sets {1, 2, 3} and {3. 4. 5}.\n"
      ],
      "metadata": {
        "id": "06utQCgvmkHN"
      }
    },
    {
      "source": [
        "set1 = {1, 2, 3}\n",
        "set2 = {3, 4, 5}\n",
        "union_set = set1.union(set2)\n",
        "print(union_set)"
      ],
      "cell_type": "code",
      "metadata": {
        "colab": {
          "base_uri": "https://localhost:8080/"
        },
        "id": "_xOZbldPVeeJ",
        "outputId": "2f28861a-9f52-46f3-ba29-c046a4ba1a86"
      },
      "execution_count": 14,
      "outputs": [
        {
          "output_type": "stream",
          "name": "stdout",
          "text": [
            "{1, 2, 3, 4, 5}\n"
          ]
        }
      ]
    },
    {
      "cell_type": "markdown",
      "source": [
        "20. Write a code to find the intersection of two sets {1, 2, 3} and {2, 3, 4}.\n"
      ],
      "metadata": {
        "id": "e7mY23mImvm2"
      }
    },
    {
      "source": [
        "set1 = {1, 2, 3}\n",
        "set2 = {2, 3, 4}\n",
        "intersection_set = set1.intersection(set2)\n",
        "print(intersection_set)"
      ],
      "cell_type": "code",
      "metadata": {
        "colab": {
          "base_uri": "https://localhost:8080/"
        },
        "id": "C5q5vUJZV8dl",
        "outputId": "1401007f-7deb-4aef-adcc-3f0317166a60"
      },
      "execution_count": 15,
      "outputs": [
        {
          "output_type": "stream",
          "name": "stdout",
          "text": [
            "{2, 3}\n"
          ]
        }
      ]
    },
    {
      "cell_type": "markdown",
      "source": [
        "21. Write a code to create a dictionary with the keys \"name\", \"age\", and \"city\", and print it.\n"
      ],
      "metadata": {
        "id": "mJdmcwTxm8Qg"
      }
    },
    {
      "source": [
        "my_dict = {\"name\": \"Alana\", \"age\": 30, \"city\": \"Delhi\"}\n",
        "print(my_dict)"
      ],
      "cell_type": "code",
      "metadata": {
        "colab": {
          "base_uri": "https://localhost:8080/"
        },
        "id": "y5U0foXbWoFj",
        "outputId": "a6b71c46-f7b8-4d22-9a69-55a8f4e9d71f"
      },
      "execution_count": 16,
      "outputs": [
        {
          "output_type": "stream",
          "name": "stdout",
          "text": [
            "{'name': 'Alana', 'age': 30, 'city': 'Delhi'}\n"
          ]
        }
      ]
    },
    {
      "cell_type": "markdown",
      "source": [
        "22. Write a code to add a new key-value pair \"country\":\"USA\" to the dictionary{'name':'John','age':25}."
      ],
      "metadata": {
        "id": "3NlxZYj7nHKg"
      }
    },
    {
      "source": [
        "my_dict = {'name': 'John', 'age': 25}\n",
        "my_dict['country'] = \"USA\"\n",
        "print(my_dict)"
      ],
      "cell_type": "code",
      "metadata": {
        "colab": {
          "base_uri": "https://localhost:8080/"
        },
        "id": "BgSjnWaEXhxs",
        "outputId": "f815b92e-bef0-4d21-cb94-f69eaad75649"
      },
      "execution_count": 17,
      "outputs": [
        {
          "output_type": "stream",
          "name": "stdout",
          "text": [
            "{'name': 'John', 'age': 25, 'country': 'USA'}\n"
          ]
        }
      ]
    },
    {
      "cell_type": "markdown",
      "source": [
        "23. Write a code to access the value associated with the key\n",
        "\"name\" in the dictionary {'name':'Alice','age':30}.\n",
        "\n"
      ],
      "metadata": {
        "id": "Tba1Ip7LnWfN"
      }
    },
    {
      "source": [
        "my_dict = {'name': 'Alice', 'age': 30}\n",
        "name_value = my_dict['name']\n",
        "print(name_value)"
      ],
      "cell_type": "code",
      "metadata": {
        "colab": {
          "base_uri": "https://localhost:8080/"
        },
        "id": "2Lvw3ZlaYNmJ",
        "outputId": "aa62cdce-099f-4d2a-e793-c5fda1ef7fd0"
      },
      "execution_count": 18,
      "outputs": [
        {
          "output_type": "stream",
          "name": "stdout",
          "text": [
            "Alice\n"
          ]
        }
      ]
    },
    {
      "cell_type": "markdown",
      "source": [
        "24. Write a code to remove the key \"age\" from the dictionary {'name':'Bob','age':22, 'city':'Paris'}."
      ],
      "metadata": {
        "id": "0IFB4Minnjk4"
      }
    },
    {
      "source": [
        "my_dict = {'name': 'Bob', 'age': 22, 'city': 'Paris'}\n",
        "del my_dict['age']\n",
        "print(my_dict)"
      ],
      "cell_type": "code",
      "metadata": {
        "colab": {
          "base_uri": "https://localhost:8080/"
        },
        "id": "9H18RFA3Y-uw",
        "outputId": "5a65b61e-7388-4fe6-a1c9-ad7654a7d4f6"
      },
      "execution_count": 19,
      "outputs": [
        {
          "output_type": "stream",
          "name": "stdout",
          "text": [
            "{'name': 'Bob', 'city': 'Paris'}\n"
          ]
        }
      ]
    },
    {
      "cell_type": "markdown",
      "source": [
        "25.Write a code to check if the key \"city\" exists in the dictionary {'name':'Alice', 'city':'Paris'}."
      ],
      "metadata": {
        "id": "ITdahDx3ZNcf"
      }
    },
    {
      "source": [
        "my_dict = {'name': 'Alice', 'city': 'Paris'}\n",
        "if 'city' in my_dict:\n",
        "  print(\"The key 'city' exists in the dictionary.\")\n",
        "else:\n",
        "  print(\"The key 'city' does not exist in the dictionary.\")"
      ],
      "cell_type": "code",
      "metadata": {
        "colab": {
          "base_uri": "https://localhost:8080/"
        },
        "id": "W-ewukPmaF-u",
        "outputId": "06f00f1c-a768-40c6-c34a-c7bef285095b"
      },
      "execution_count": 20,
      "outputs": [
        {
          "output_type": "stream",
          "name": "stdout",
          "text": [
            "The key 'city' exists in the dictionary.\n"
          ]
        }
      ]
    },
    {
      "cell_type": "markdown",
      "source": [
        "26. Write a code to create a list, a tuple and a dictionary, and print them all."
      ],
      "metadata": {
        "id": "ZspgNEzEaOgj"
      }
    },
    {
      "source": [
        "# Create a list\n",
        "my_list = [1, 2, 3, \"apple\", \"banana\"]\n",
        "\n",
        "# Create a tuple\n",
        "my_tuple = (10, 20, 30, \"red\", \"green\")\n",
        "\n",
        "# Create a dictionary\n",
        "my_dict = {\"name\": \"Alice\", \"age\": 30, \"city\": \"New York\"}\n",
        "\n",
        "# Print all three data structures\n",
        "print(\"List:\", my_list)\n",
        "print(\"Tuple:\", my_tuple)\n",
        "print(\"Dictionary:\", my_dict)"
      ],
      "cell_type": "code",
      "metadata": {
        "colab": {
          "base_uri": "https://localhost:8080/"
        },
        "id": "sCpX34HqauW5",
        "outputId": "78fadab9-6074-4a47-ece1-8b84e14550c2"
      },
      "execution_count": 21,
      "outputs": [
        {
          "output_type": "stream",
          "name": "stdout",
          "text": [
            "List: [1, 2, 3, 'apple', 'banana']\n",
            "Tuple: (10, 20, 30, 'red', 'green')\n",
            "Dictionary: {'name': 'Alice', 'age': 30, 'city': 'New York'}\n"
          ]
        }
      ]
    },
    {
      "cell_type": "markdown",
      "source": [
        "27.Write a code to create a list of 5 random numbers between 1 and 100, sort it in ascending order, and print the result.(replaced)"
      ],
      "metadata": {
        "id": "ISvhJXPjaxZx"
      }
    },
    {
      "source": [
        "import random\n",
        "\n",
        "# Generate 5 random numbers between 1 and 100\n",
        "random_numbers = [random.randint(1, 100) for _ in range(5)]\n",
        "\n",
        "# Sort the list in ascending order\n",
        "random_numbers.sort()\n",
        "\n",
        "# Print the sorted list\n",
        "print(random_numbers)"
      ],
      "cell_type": "code",
      "metadata": {
        "colab": {
          "base_uri": "https://localhost:8080/"
        },
        "id": "IBkxjT7rbKyp",
        "outputId": "d98b9789-e714-41c8-8c55-be4a317a74c0"
      },
      "execution_count": 24,
      "outputs": [
        {
          "output_type": "stream",
          "name": "stdout",
          "text": [
            "[23, 27, 33, 48, 73]\n"
          ]
        }
      ]
    },
    {
      "source": [
        "import random\n",
        "\n",
        "random_numbers = []\n",
        "for _ in range(5):\n",
        "  random_numbers.append(random.randint(1, 100))\n",
        "\n",
        "random_numbers.sort()\n",
        "print(random_numbers)"
      ],
      "cell_type": "code",
      "metadata": {
        "colab": {
          "base_uri": "https://localhost:8080/"
        },
        "id": "4BSFgevNbdgz",
        "outputId": "24f4eb08-2842-4ed1-f677-a86e5fde4563"
      },
      "execution_count": 23,
      "outputs": [
        {
          "output_type": "stream",
          "name": "stdout",
          "text": [
            "[4, 9, 29, 86, 88]\n"
          ]
        }
      ]
    },
    {
      "cell_type": "markdown",
      "source": [
        "28.Write a code to create a list with strings and print the element at the third index."
      ],
      "metadata": {
        "id": "KsCLXwP3bnAJ"
      }
    },
    {
      "source": [
        "my_list = [\"apple\", \"banana\", \"orange\", \"grape\", \"kiwi\"]\n",
        "print(my_list[2])"
      ],
      "cell_type": "code",
      "metadata": {
        "colab": {
          "base_uri": "https://localhost:8080/"
        },
        "id": "8RloaR5ycO4m",
        "outputId": "b632e285-fb25-4679-c964-709cb176576f"
      },
      "execution_count": 25,
      "outputs": [
        {
          "output_type": "stream",
          "name": "stdout",
          "text": [
            "orange\n"
          ]
        }
      ]
    },
    {
      "cell_type": "markdown",
      "source": [
        "29. Write a code to combine two dictionaries into one and print the result."
      ],
      "metadata": {
        "id": "t1q2Y_32caeE"
      }
    },
    {
      "source": [
        "dict1 = {'a': 1, 'b': 2}\n",
        "dict2 = {'c': 3, 'd': 4}\n",
        "\n",
        "# Method 1: Using the update() method\n",
        "dict1.update(dict2)\n",
        "print(dict1)\n",
        "\n",
        "# Method 2: Using the ** unpacking operator (Python 3.5+)\n",
        "combined_dict = {**dict1, **dict2}\n",
        "print(combined_dict)"
      ],
      "cell_type": "code",
      "metadata": {
        "colab": {
          "base_uri": "https://localhost:8080/"
        },
        "id": "qkEoLVBXcvoh",
        "outputId": "5e4cb11d-6ec7-4041-90ac-69f8397fc6bc"
      },
      "execution_count": 27,
      "outputs": [
        {
          "output_type": "stream",
          "name": "stdout",
          "text": [
            "{'a': 1, 'b': 2, 'c': 3, 'd': 4}\n",
            "{'a': 1, 'b': 2, 'c': 3, 'd': 4}\n"
          ]
        }
      ]
    },
    {
      "cell_type": "markdown",
      "source": [
        "30. Write a code to convert a list of strings into a set."
      ],
      "metadata": {
        "id": "png9vrfOdbmU"
      }
    },
    {
      "source": [
        "my_list = [\"apple\", \"banana\", \"orange\", \"banana\", \"apple\"]\n",
        "my_set = set(my_list)\n",
        "print(my_set)"
      ],
      "cell_type": "code",
      "metadata": {
        "colab": {
          "base_uri": "https://localhost:8080/"
        },
        "id": "QpY-1_R-dr2_",
        "outputId": "642cfe82-3983-4731-f589-71b6361fc992"
      },
      "execution_count": 29,
      "outputs": [
        {
          "output_type": "stream",
          "name": "stdout",
          "text": [
            "{'apple', 'banana', 'orange'}\n"
          ]
        }
      ]
    },
    {
      "cell_type": "code",
      "source": [],
      "metadata": {
        "id": "eZcm8Z5CZDKo"
      },
      "execution_count": null,
      "outputs": []
    }
  ]
}